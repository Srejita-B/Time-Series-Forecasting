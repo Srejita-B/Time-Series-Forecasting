{
 "cells": [
  {
   "cell_type": "code",
   "execution_count": 1,
   "id": "51a91458",
   "metadata": {},
   "outputs": [
    {
     "name": "stdout",
     "output_type": "stream",
     "text": [
      "Enter numbers separated by spaces: 4 8 12 16 20 24 32 36 40\n",
      "Enter the window size for the moving average: 3\n",
      "Original List: [4.0, 8.0, 12.0, 16.0, 20.0, 24.0, 32.0, 36.0, 40.0]\n",
      "Moving Averages: [8.0, 12.0, 16.0, 20.0, 25.333333333333332, 30.666666666666668, 36.0]\n"
     ]
    }
   ],
   "source": [
    "##Example 1\n",
    "# Get the list from the user\n",
    "user_input = input(\"Enter numbers separated by spaces: \")\n",
    "simple_list = list(map(float, user_input.split()))\n",
    "\n",
    "# Define the window size for the moving average\n",
    "window_size = int(input(\"Enter the window size for the moving average: \"))\n",
    "\n",
    "# Calculate the moving average\n",
    "moving_averages = []\n",
    "for i in range(len(simple_list) - window_size + 1):\n",
    "    window = simple_list[i:i + window_size]\n",
    "    window_average = sum(window) / window_size\n",
    "    moving_averages.append(window_average)\n",
    "\n",
    "# Display the results\n",
    "print(f\"Original List: {simple_list}\")\n",
    "print(f\"Moving Averages: {moving_averages}\")"
   ]
  },
  {
   "cell_type": "code",
   "execution_count": 2,
   "id": "8f755aca",
   "metadata": {},
   "outputs": [
    {
     "name": "stdout",
     "output_type": "stream",
     "text": [
      "Enter numbers separated by spaces: 5 10 15 20 25 30 35 40 45 50\n",
      "Enter the window size for the moving average: 4\n",
      "Original List: [5.0, 10.0, 15.0, 20.0, 25.0, 30.0, 35.0, 40.0, 45.0, 50.0]\n",
      "Moving Averages: [12.5, 17.5, 22.5, 27.5, 32.5, 37.5, 42.5]\n"
     ]
    }
   ],
   "source": [
    "##Example 2\n",
    "# Get the list from the user\n",
    "user_input = input(\"Enter numbers separated by spaces: \")\n",
    "simple_list = list(map(float, user_input.split()))\n",
    "\n",
    "# Define the window size for the moving average\n",
    "window_size = int(input(\"Enter the window size for the moving average: \"))\n",
    "\n",
    "# Calculate the moving average\n",
    "moving_averages = []\n",
    "for i in range(len(simple_list) - window_size + 1):\n",
    "    window = simple_list[i:i + window_size]\n",
    "    window_average = sum(window) / window_size\n",
    "    moving_averages.append(window_average)\n",
    "\n",
    "# Display the results\n",
    "print(f\"Original List: {simple_list}\")\n",
    "print(f\"Moving Averages: {moving_averages}\")"
   ]
  },
  {
   "cell_type": "code",
   "execution_count": 3,
   "id": "6bafed95",
   "metadata": {},
   "outputs": [
    {
     "name": "stdout",
     "output_type": "stream",
     "text": [
      "Enter numbers separated by spaces: 11 22 33 44 55 66 77 88 99 110\n",
      "Enter the window size for the moving average: 2\n",
      "Original List: [11.0, 22.0, 33.0, 44.0, 55.0, 66.0, 77.0, 88.0, 99.0, 110.0]\n",
      "Moving Averages: [16.5, 27.5, 38.5, 49.5, 60.5, 71.5, 82.5, 93.5, 104.5]\n"
     ]
    }
   ],
   "source": [
    "##Example 3\n",
    "# Get the list from the user\n",
    "user_input = input(\"Enter numbers separated by spaces: \")\n",
    "simple_list = list(map(float, user_input.split()))\n",
    "\n",
    "# Define the window size for the moving average\n",
    "window_size = int(input(\"Enter the window size for the moving average: \"))\n",
    "\n",
    "# Calculate the moving average\n",
    "moving_averages = []\n",
    "for i in range(len(simple_list) - window_size + 1):\n",
    "    window = simple_list[i:i + window_size]\n",
    "    window_average = sum(window) / window_size\n",
    "    moving_averages.append(window_average)\n",
    "\n",
    "# Display the results\n",
    "print(f\"Original List: {simple_list}\")\n",
    "print(f\"Moving Averages: {moving_averages}\")"
   ]
  },
  {
   "cell_type": "code",
   "execution_count": 4,
   "id": "1b1aff79",
   "metadata": {},
   "outputs": [
    {
     "name": "stdout",
     "output_type": "stream",
     "text": [
      "Enter numbers separated by spaces: 9 18 27 36 45 54 63 72 81 90\n",
      "Enter the window size for the moving average: 3\n",
      "Original List: [9.0, 18.0, 27.0, 36.0, 45.0, 54.0, 63.0, 72.0, 81.0, 90.0]\n",
      "Moving Averages: [18.0, 27.0, 36.0, 45.0, 54.0, 63.0, 72.0, 81.0]\n"
     ]
    }
   ],
   "source": [
    "##Example 4\n",
    "# Get the list from the user\n",
    "user_input = input(\"Enter numbers separated by spaces: \")\n",
    "simple_list = list(map(float, user_input.split()))\n",
    "\n",
    "# Define the window size for the moving average\n",
    "window_size = int(input(\"Enter the window size for the moving average: \"))\n",
    "\n",
    "# Calculate the moving average\n",
    "moving_averages = []\n",
    "for i in range(len(simple_list) - window_size + 1):\n",
    "    window = simple_list[i:i + window_size]\n",
    "    window_average = sum(window) / window_size\n",
    "    moving_averages.append(window_average)\n",
    "\n",
    "# Display the results\n",
    "print(f\"Original List: {simple_list}\")\n",
    "print(f\"Moving Averages: {moving_averages}\")"
   ]
  },
  {
   "cell_type": "code",
   "execution_count": 5,
   "id": "218444cf",
   "metadata": {},
   "outputs": [
    {
     "data": {
      "text/html": [
       "<div>\n",
       "<style scoped>\n",
       "    .dataframe tbody tr th:only-of-type {\n",
       "        vertical-align: middle;\n",
       "    }\n",
       "\n",
       "    .dataframe tbody tr th {\n",
       "        vertical-align: top;\n",
       "    }\n",
       "\n",
       "    .dataframe thead th {\n",
       "        text-align: right;\n",
       "    }\n",
       "</style>\n",
       "<table border=\"1\" class=\"dataframe\">\n",
       "  <thead>\n",
       "    <tr style=\"text-align: right;\">\n",
       "      <th></th>\n",
       "      <th>Year</th>\n",
       "      <th>Attrition Rate</th>\n",
       "    </tr>\n",
       "  </thead>\n",
       "  <tbody>\n",
       "    <tr>\n",
       "      <th>0</th>\n",
       "      <td>2011</td>\n",
       "      <td>10</td>\n",
       "    </tr>\n",
       "    <tr>\n",
       "      <th>1</th>\n",
       "      <td>2012</td>\n",
       "      <td>11</td>\n",
       "    </tr>\n",
       "    <tr>\n",
       "      <th>2</th>\n",
       "      <td>2013</td>\n",
       "      <td>12</td>\n",
       "    </tr>\n",
       "    <tr>\n",
       "      <th>3</th>\n",
       "      <td>2014</td>\n",
       "      <td>13</td>\n",
       "    </tr>\n",
       "    <tr>\n",
       "      <th>4</th>\n",
       "      <td>2015</td>\n",
       "      <td>15</td>\n",
       "    </tr>\n",
       "  </tbody>\n",
       "</table>\n",
       "</div>"
      ],
      "text/plain": [
       "   Year  Attrition Rate\n",
       "0  2011              10\n",
       "1  2012              11\n",
       "2  2013              12\n",
       "3  2014              13\n",
       "4  2015              15"
      ]
     },
     "execution_count": 5,
     "metadata": {},
     "output_type": "execute_result"
    }
   ],
   "source": [
    "import pandas as pd\n",
    "attrition_data = pd.read_csv(\"attrition_data.csv\")\n",
    "attrition_data.head(5)"
   ]
  },
  {
   "cell_type": "code",
   "execution_count": 6,
   "id": "8e03f8fd",
   "metadata": {},
   "outputs": [
    {
     "name": "stderr",
     "output_type": "stream",
     "text": [
      "C:\\Users\\SREJITA\\anaconda3\\lib\\site-packages\\scipy\\__init__.py:146: UserWarning: A NumPy version >=1.16.5 and <1.23.0 is required for this version of SciPy (detected version 1.26.4\n",
      "  warnings.warn(f\"A NumPy version >={np_minversion} and <{np_maxversion}\"\n"
     ]
    },
    {
     "name": "stdout",
     "output_type": "stream",
     "text": [
      "ADF Statistic: -0.6423640548375108\n",
      "p-value: 0.8611193437632665\n",
      "Critial Values:\n",
      "   1%, -4.473135048010974\n",
      "Critial Values:\n",
      "   5%, -3.28988060356653\n",
      "Critial Values:\n",
      "   10%, -2.7723823456790124\n"
     ]
    }
   ],
   "source": [
    "#ADF Test on stationary series\n",
    "import pandas as pd\n",
    "import numpy as np\n",
    "import matplotlib.pyplot as plt\n",
    "from statsmodels.tsa.stattools import adfuller\n",
    "series = attrition_data['Attrition Rate']\n",
    "result = adfuller(series, autolag='AIC')\n",
    "print(f'ADF Statistic: {result[0]}')\n",
    "print(f'p-value: {result[1]}')\n",
    "for key, value in result[4].items():\n",
    "    print('Critial Values:')\n",
    "    print(f'   {key}, {value}')"
   ]
  },
  {
   "cell_type": "markdown",
   "id": "d6209717",
   "metadata": {},
   "source": [
    "p-value>0.05 so  we cannot reject the null hypothesis .so the series is not stationary"
   ]
  },
  {
   "cell_type": "code",
   "execution_count": 8,
   "id": "48175790",
   "metadata": {},
   "outputs": [
    {
     "data": {
      "text/html": [
       "<div>\n",
       "<style scoped>\n",
       "    .dataframe tbody tr th:only-of-type {\n",
       "        vertical-align: middle;\n",
       "    }\n",
       "\n",
       "    .dataframe tbody tr th {\n",
       "        vertical-align: top;\n",
       "    }\n",
       "\n",
       "    .dataframe thead th {\n",
       "        text-align: right;\n",
       "    }\n",
       "</style>\n",
       "<table border=\"1\" class=\"dataframe\">\n",
       "  <thead>\n",
       "    <tr style=\"text-align: right;\">\n",
       "      <th></th>\n",
       "      <th>Attrition Rate</th>\n",
       "    </tr>\n",
       "    <tr>\n",
       "      <th>Year</th>\n",
       "      <th></th>\n",
       "    </tr>\n",
       "  </thead>\n",
       "  <tbody>\n",
       "    <tr>\n",
       "      <th>2011-01-01</th>\n",
       "      <td>10</td>\n",
       "    </tr>\n",
       "    <tr>\n",
       "      <th>2012-01-01</th>\n",
       "      <td>11</td>\n",
       "    </tr>\n",
       "  </tbody>\n",
       "</table>\n",
       "</div>"
      ],
      "text/plain": [
       "            Attrition Rate\n",
       "Year                      \n",
       "2011-01-01              10\n",
       "2012-01-01              11"
      ]
     },
     "execution_count": 8,
     "metadata": {},
     "output_type": "execute_result"
    }
   ],
   "source": [
    "import matplotlib.pyplot as plt\n",
    "from statsmodels.tsa.ar_model import AutoReg\n",
    "\n",
    "# Convert the Year column to datetime format for index\n",
    "attrition_data['Year'] = pd.to_datetime(attrition_data['Year'], format='%Y')\n",
    "attrition_data.set_index('Year', inplace=True)\n",
    "attrition_data.head(2)"
   ]
  },
  {
   "cell_type": "code",
   "execution_count": 10,
   "id": "1115629a",
   "metadata": {},
   "outputs": [
    {
     "data": {
      "image/png": "[encoded data removed]",
      "text/plain": [
       "<Figure size 720x432 with 1 Axes>"
      ]
     },
     "metadata": {
      "needs_background": "light"
     },
     "output_type": "display_data"
    }
   ],
   "source": [
    "plt.figure(figsize=(10, 6))\n",
    "plt.plot(attrition_data.index, attrition_data['Attrition Rate'], label='Attrition Rate')\n",
    "plt.title('Attrition Rate')\n",
    "plt.xlabel('Date')\n",
    "plt.ylabel('Attrition Rate')\n",
    "plt.legend()\n",
    "plt.show()"
   ]
  },
  {
   "cell_type": "code",
   "execution_count": 21,
   "id": "a89f57ba",
   "metadata": {},
   "outputs": [
    {
     "name": "stdout",
     "output_type": "stream",
     "text": [
      "\n",
      "AR Model Summary:\n",
      "                            AutoReg Model Results                             \n",
      "==============================================================================\n",
      "Dep. Variable:         Attrition Rate   No. Observations:                   13\n",
      "Model:                     AutoReg(3)   Log Likelihood                  -4.999\n",
      "Method:               Conditional MLE   S.D. of innovations              0.399\n",
      "Date:                Mon, 09 Sep 2024   AIC                             19.999\n",
      "Time:                        23:40:40   BIC                             21.512\n",
      "Sample:                    01-01-2014   HQIC                            18.339\n",
      "                         - 01-01-2023                                         \n",
      "=====================================================================================\n",
      "                        coef    std err          z      P>|z|      [0.025      0.975]\n",
      "-------------------------------------------------------------------------------------\n",
      "const                 2.3633      0.603      3.921      0.000       1.182       3.545\n",
      "Attrition Rate.L1     0.5966      0.284      2.099      0.036       0.039       1.154\n",
      "Attrition Rate.L2    -0.1456      0.361     -0.404      0.686      -0.852       0.561\n",
      "Attrition Rate.L3     0.5929      0.294      2.015      0.044       0.016       1.169\n",
      "                                    Roots                                    \n",
      "=============================================================================\n",
      "                  Real          Imaginary           Modulus         Frequency\n",
      "-----------------------------------------------------------------------------\n",
      "AR.1            0.9786           -0.0000j            0.9786           -0.0000\n",
      "AR.2           -0.3665           -1.2607j            1.3129           -0.2950\n",
      "AR.3           -0.3665           +1.2607j            1.3129            0.2950\n",
      "-----------------------------------------------------------------------------\n"
     ]
    },
    {
     "name": "stderr",
     "output_type": "stream",
     "text": [
      "C:\\Users\\SREJITA\\anaconda3\\lib\\site-packages\\statsmodels\\tsa\\base\\tsa_model.py:471: ValueWarning: No frequency information was provided, so inferred frequency AS-JAN will be used.\n",
      "  self._init_dates(dates, freq)\n"
     ]
    }
   ],
   "source": [
    "model = AutoReg(attrition_data['Attrition Rate'], lags=3)\n",
    "model_fit = model.fit()\n",
    "\n",
    "# Print the model summary\n",
    "print(\"\\nAR Model Summary:\")\n",
    "print(model_fit.summary())"
   ]
  },
  {
   "cell_type": "code",
   "execution_count": 22,
   "id": "5424b807",
   "metadata": {},
   "outputs": [
    {
     "name": "stderr",
     "output_type": "stream",
     "text": [
      "C:\\Users\\SREJITA\\anaconda3\\lib\\site-packages\\statsmodels\\tsa\\deterministic.py:302: UserWarning: Only PeriodIndexes, DatetimeIndexes with a frequency set, RangesIndexes, and Index with a unit increment support extending. The index is set will contain the position relative to the data length.\n",
      "  fcast_index = self._extend_index(index, steps, forecast_index)\n"
     ]
    },
    {
     "data": {
      "image/png": "[encoded data removed]",
      "text/plain": [
       "<Figure size 1152x432 with 1 Axes>"
      ]
     },
     "metadata": {
      "needs_background": "light"
     },
     "output_type": "display_data"
    }
   ],
   "source": [
    "\n",
    "predictions = model_fit.predict(start=len(attrition_data), end=len(attrition_data) + 2, dynamic=False)\n",
    "\n",
    "\n",
    "last_year = attrition_data.index[-1].year\n",
    "prediction_years = pd.date_range(start=f'{last_year -1}', periods=3, freq='Y')   #window size=periods\n",
    "predictions_df = pd.DataFrame({'Year': prediction_years, 'PredictedAttritionRate': predictions})\n",
    "predictions_df.set_index('Year', inplace=True)\n",
    "\n",
    "\n",
    "plt.figure(figsize=(16, 6))\n",
    "plt.plot(attrition_data.index, attrition_data['Attrition Rate'], label='Observed Attrition Rate')\n",
    "plt.plot(predictions_df.index, predictions_df['PredictedAttritionRate'], label='Predicted Attrition Rate', color='orange')\n",
    "plt.title('Observed and Predicted Attrition Rate')\n",
    "plt.xlabel('Year')\n",
    "plt.ylabel('Attrition Rate')\n",
    "plt.legend()\n",
    "plt.show()"
   ]
  },
  {
   "cell_type": "code",
   "execution_count": 28,
   "id": "deb3b614",
   "metadata": {},
   "outputs": [
    {
     "name": "stdout",
     "output_type": "stream",
     "text": [
      "   Year  Forecasted Attrition Rate\n",
      "0  2024                  26.666667\n",
      "1  2025                  26.666667\n",
      "2  2026                  26.666667\n",
      "3  2027                  26.666667\n"
     ]
    }
   ],
   "source": [
    "# Forecasting using moving average method\n",
    "window_size = 3  # Choose window size for moving average\n",
    "forecast_years = range(2024, 2028)\n",
    "\n",
    "# Calculate moving average\n",
    "attrition_data['Moving Average'] = attrition_data['Attrition Rate'].rolling(window=window_size).mean()\n",
    "\n",
    "# Forecast attrition rate for 2024-2026\n",
    "forecasted_attrition = attrition_data['Moving Average'].iloc[-1]  # Use the last available moving average for forecasting\n",
    "forecasted_data = pd.DataFrame({'Year': forecast_years, 'Forecasted Attrition Rate': forecasted_attrition})\n",
    "\n",
    "# Display forecasted data\n",
    "print(forecasted_data)\n",
    "\n"
   ]
  },
  {
   "cell_type": "code",
   "execution_count": null,
   "id": "fc14eebb",
   "metadata": {},
   "outputs": [],
   "source": []
  }
 ],
 "metadata": {
  "kernelspec": {
   "display_name": "Python 3 (ipykernel)",
   "language": "python",
   "name": "python3"
  },
  "language_info": {
   "codemirror_mode": {
    "name": "ipython",
    "version": 3
   },
   "file_extension": ".py",
   "mimetype": "text/x-python",
   "name": "python",
   "nbconvert_exporter": "python",
   "pygments_lexer": "ipython3",
   "version": "3.9.12"
  }
 },
 "nbformat": 4,
 "nbformat_minor": 5
}
